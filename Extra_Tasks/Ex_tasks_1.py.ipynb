{
  "nbformat": 4,
  "nbformat_minor": 0,
  "metadata": {
    "colab": {
      "provenance": [],
      "authorship_tag": "ABX9TyM6CbqsIIq7iETJuIdf1uXg",
      "include_colab_link": true
    },
    "kernelspec": {
      "name": "python3",
      "display_name": "Python 3"
    },
    "language_info": {
      "name": "python"
    }
  },
  "cells": [
    {
      "cell_type": "markdown",
      "metadata": {
        "id": "view-in-github",
        "colab_type": "text"
      },
      "source": [
        "<a href=\"https://colab.research.google.com/github/ZakL1K1/UNIVERCITY/blob/main/Extra_Tasks/Ex_tasks_1.py.ipynb\" target=\"_parent\"><img src=\"https://colab.research.google.com/assets/colab-badge.svg\" alt=\"Open In Colab\"/></a>"
      ]
    },
    {
      "cell_type": "code",
      "execution_count": 1,
      "metadata": {
        "colab": {
          "base_uri": "https://localhost:8080/"
        },
        "id": "8tUS7oRWk7JE",
        "outputId": "94b970fc-2813-45b0-aba8-f22bafbd2dd7"
      },
      "outputs": [
        {
          "output_type": "stream",
          "name": "stdout",
          "text": [
            "2\n",
            "Поздравляем! Вы угадали число за 1 попыток!\n"
          ]
        }
      ],
      "source": [
        "import random\n",
        "cnt = 0\n",
        "computer_choise = random.randint(1, 100)\n",
        "while True:\n",
        "    user_answer = input()\n",
        "    cnt += 1\n",
        "    if user_answer.lower() == 'выход':\n",
        "        break\n",
        "    elif user_answer.isdigit() == False:\n",
        "        print('Введите число!!!!!!!')\n",
        "        continue\n",
        "    else:\n",
        "        user_answer = int(user_answer)\n",
        "    if user_answer > computer_choise:\n",
        "        print('Ваше число больше!')\n",
        "    elif user_answer < computer_choise:\n",
        "        print('Ваше число меньше!')\n",
        "    else:\n",
        "        print(f'Поздравляем! Вы угадали число за {cnt} попыток!')\n",
        "        break"
      ]
    }
  ]
}