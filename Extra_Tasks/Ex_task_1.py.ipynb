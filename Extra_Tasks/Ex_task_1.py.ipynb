{
  "nbformat": 4,
  "nbformat_minor": 0,
  "metadata": {
    "colab": {
      "provenance": [],
      "authorship_tag": "ABX9TyOyFQNFFbvdDOlxdlb3CUTT",
      "include_colab_link": true
    },
    "kernelspec": {
      "name": "python3",
      "display_name": "Python 3"
    },
    "language_info": {
      "name": "python"
    }
  },
  "cells": [
    {
      "cell_type": "markdown",
      "metadata": {
        "id": "view-in-github",
        "colab_type": "text"
      },
      "source": [
        "<a href=\"https://colab.research.google.com/github/ZakL1K1/UNIVERCITY/blob/main/Extra_Tasks/Ex_task_1.py.ipynb\" target=\"_parent\"><img src=\"https://colab.research.google.com/assets/colab-badge.svg\" alt=\"Open In Colab\"/></a>"
      ]
    },
    {
      "cell_type": "code",
      "execution_count": 4,
      "metadata": {
        "colab": {
          "base_uri": "https://localhost:8080/"
        },
        "id": "TECCL4kStBTV",
        "outputId": "43c54c66-77e1-426e-b63a-6e66bc8fecd6"
      },
      "outputs": [
        {
          "output_type": "stream",
          "name": "stdout",
          "text": [
            "45\n",
            "Поздравляем! Вы угадали число за 1 попытки!\n"
          ]
        }
      ],
      "source": [
        "import random\n",
        "cnt = 1\n",
        "exit_chislo = 10000\n",
        "computer_choise = random.randint(0, 100)\n",
        "while int(exit_chislo) != computer_choise:\n",
        "    exit_chislo = input()\n",
        "    if exit_chislo == 'Выход':\n",
        "        break\n",
        "    elif int(exit_chislo) > computer_choise:\n",
        "        print('Ваше число больше!')\n",
        "        cnt += 1\n",
        "    elif int(exit_chislo) < computer_choise:\n",
        "        print('Ваше число меньше!')\n",
        "        cnt += 1\n",
        "    else:\n",
        "        print(f'Поздравляем! Вы угадали число за {cnt} попытки!')"
      ]
    }
  ]
}