{
  "nbformat": 4,
  "nbformat_minor": 0,
  "metadata": {
    "colab": {
      "provenance": [],
      "authorship_tag": "ABX9TyMNahQB+LmzqY6fdVecD/v+",
      "include_colab_link": true
    },
    "kernelspec": {
      "name": "python3",
      "display_name": "Python 3"
    },
    "language_info": {
      "name": "python"
    }
  },
  "cells": [
    {
      "cell_type": "markdown",
      "metadata": {
        "id": "view-in-github",
        "colab_type": "text"
      },
      "source": [
        "<a href=\"https://colab.research.google.com/github/ZakL1K1/UNIVERCITY/blob/main/Extra_Tasks/Ex_task_2.py.ipynb\" target=\"_parent\"><img src=\"https://colab.research.google.com/assets/colab-badge.svg\" alt=\"Open In Colab\"/></a>"
      ]
    },
    {
      "cell_type": "code",
      "execution_count": null,
      "metadata": {
        "id": "wqPocErUvFGS"
      },
      "outputs": [],
      "source": [
        "def proverka(num):\n",
        "    if len(num) != 12:\n",
        "        if len(num) == 10:\n",
        "            num = '+7' + num\n",
        "        elif len(num) == 11 and num[0] == '8':\n",
        "            num = '+7' + num[1:]\n",
        "        elif len(num) == 11 and '+' not in num:\n",
        "            num = '+' + num\n",
        "        elif len(num) == 11 and num[0] =='+' and num[1] != '7':\n",
        "            num = num[0] + '7' + num[1:]\n",
        "    return num\n",
        "def telephone(sob):\n",
        "    global slovar\n",
        "    if sob == 1:\n",
        "        name = ((print('Введите название для контакта:'), input())[1]).lower().title()\n",
        "        number = proverka((print('Введите номер телефона:'), input())[1])\n",
        "        slovar.update({name: number})\n",
        "        print('Контакт успешно добавлен!')\n",
        "    elif sob == 2:\n",
        "        name = ((print('Введите название контакта, которого хотите удалить:'), input())[1]).lower().title()\n",
        "        if name in slovar:\n",
        "            slovar.pop(name)\n",
        "            print('Контакт успешно удален!')\n",
        "        else:\n",
        "            print('Такого контакта не было найдено')\n",
        "    elif sob == 3:\n",
        "        for key, value in slovar.items():\n",
        "            print(key, ':', value)\n",
        "    elif sob == 4:\n",
        "        name = ((print('Введите название для контакта:'), input())[1]).lower().title()\n",
        "        if name in slovar:\n",
        "            number = proverka((print('Введите номер телефона:'), input())[1])\n",
        "            slovar[name] = number\n",
        "            print('Контакт успешно изменен!')\n",
        "        else:\n",
        "            print('Контакт не найден')\n",
        "    slovar = dict(sorted(slovar.items()))\n",
        "slovar = dict()\n",
        "print('Выберите функцию:', '1. Добавить контакт', '2. Удалить контакт', '3. Показать список контактов', '4. Изменить номер', '5.Выход', sep = '\\n')\n",
        "s = int(input())\n",
        "d = telephone(s)\n",
        "while s != 5:\n",
        "    print('Выберите функцию:', '1. Добавить контакт', '2. Удалить контакт', '3. Показать список контактов', '4. Изменить номер', '5.Выход', sep='\\n')\n",
        "    s = int(input())\n",
        "    telephone(s)"
      ]
    }
  ]
}