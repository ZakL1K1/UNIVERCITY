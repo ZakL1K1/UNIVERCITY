{
  "nbformat": 4,
  "nbformat_minor": 0,
  "metadata": {
    "colab": {
      "provenance": [],
      "include_colab_link": true
    },
    "kernelspec": {
      "name": "python3",
      "display_name": "Python 3"
    },
    "language_info": {
      "name": "python"
    }
  },
  "cells": [
    {
      "cell_type": "markdown",
      "metadata": {
        "id": "view-in-github",
        "colab_type": "text"
      },
      "source": [
        "<a href=\"https://colab.research.google.com/github/ZakL1K1/UNIVERCITY/blob/main/Ex_tasks_2.1.py.ipynb\" target=\"_parent\"><img src=\"https://colab.research.google.com/assets/colab-badge.svg\" alt=\"Open In Colab\"/></a>"
      ]
    },
    {
      "cell_type": "markdown",
      "source": [
        "### **Дополнительное задание №2.1**"
      ],
      "metadata": {
        "id": "AFKOdzjAKWYc"
      }
    },
    {
      "cell_type": "markdown",
      "source": [
        "---\n",
        "\n",
        "**Пункт 1:**\n",
        "\n",
        "Напишите программу, которая принимает список строк, содержащих числа, и преобраует их в список целых чисел, возведённых в куб. Используйте функции `map()` и `lambda`.\n",
        "\n",
        "**Пример:**\n",
        "\n",
        "```python\n",
        "# Входные данные\n",
        "numbers = ['1', '2', '3', '4', '5']\n",
        "\n",
        "# Ожидаемый результат\n",
        "[1, 8, 27, 64, 125]\n",
        "```"
      ],
      "metadata": {
        "id": "qIQeFXOZKtlE"
      }
    },
    {
      "cell_type": "code",
      "source": [
        "numbers = ['1', '2', '3', '4', '5']\n",
        "print(list(map(lambda x: int(x) ** 3, numbers)))"
      ],
      "metadata": {
        "id": "g4gpq3TwKus0",
        "colab": {
          "base_uri": "https://localhost:8080/"
        },
        "outputId": "ed25087b-5a00-4a5e-86ca-62e39168b0b0"
      },
      "execution_count": null,
      "outputs": [
        {
          "output_type": "stream",
          "name": "stdout",
          "text": [
            "[1, 8, 27, 64, 125]\n"
          ]
        }
      ]
    },
    {
      "cell_type": "markdown",
      "source": [
        "---\n",
        "\n",
        "**Пункт 2:**\n",
        "\n",
        "Используя `filter()` и `lambda`, из списка слов отфильтруйте только те, которые начинаются и заканчиваются на одну и ту же букву.\n",
        "\n",
        "**Пример:**\n",
        "\n",
        "```python\n",
        "# Входные данные\n",
        "words = ['level', 'python', 'radar', 'world', 'rotor']\n",
        "\n",
        "# Ожидаемый результат\n",
        "['level', 'radar', 'rotor']\n",
        "```"
      ],
      "metadata": {
        "id": "L86Zyn5OK0FW"
      }
    },
    {
      "cell_type": "code",
      "source": [
        "words = ['level', 'python', 'radar', 'world', 'rotor']\n",
        "print(list(filter(lambda x: x[0] == x[-1], words)))"
      ],
      "metadata": {
        "id": "k0-9uu2iK45z",
        "colab": {
          "base_uri": "https://localhost:8080/"
        },
        "outputId": "68911634-7433-46bc-83b7-5715fce51419"
      },
      "execution_count": null,
      "outputs": [
        {
          "output_type": "stream",
          "name": "stdout",
          "text": [
            "['level', 'radar', 'rotor']\n"
          ]
        }
      ]
    },
    {
      "cell_type": "markdown",
      "source": [
        "---\n",
        "\n",
        "**Пункт 3:**\n",
        "\n",
        "С помощью `reduce()` и `lambda` найдите наибольшее число в списке чисел.\n",
        "\n",
        "**Подсказка:** Функция `reduce()` находится в модуле `functools`.\n",
        "\n",
        "**Пример:**\n",
        "\n",
        "```python\n",
        "# Входные данные\n",
        "numbers = [47, 11, 42, 102, 13]\n",
        "\n",
        "# Ожидаемый результат\n",
        "102\n",
        "```"
      ],
      "metadata": {
        "id": "ppIY_xrQK5ZT"
      }
    },
    {
      "cell_type": "code",
      "source": [
        "import functools\n",
        "numbers = [47, 11, 42, 102, 13]\n",
        "print(functools.reduce(lambda x, y: x if x > y else y, numbers))"
      ],
      "metadata": {
        "id": "Gl9iHqHuK6Gp",
        "colab": {
          "base_uri": "https://localhost:8080/"
        },
        "outputId": "94cab9d7-4b94-4902-aaa2-09df4f2dad37"
      },
      "execution_count": null,
      "outputs": [
        {
          "output_type": "stream",
          "name": "stdout",
          "text": [
            "102\n"
          ]
        }
      ]
    },
    {
      "cell_type": "markdown",
      "source": [
        "---\n",
        "\n",
        "**Пункт 4:**\n",
        "\n",
        "Объедините два списка чисел в один список кортежей, где каждый кортеж состоит из элементов исходных списков, возведённых в квадрат и куб соответственно. Используйте функции `map()`, `lambda` и `zip()`.\n",
        "\n",
        "**Пример:**\n",
        "\n",
        "```python\n",
        "# Входные данные\n",
        "list1 = [1, 2, 3]\n",
        "list2 = [4, 5, 6]\n",
        "\n",
        "# Ожидаемый результат\n",
        "[(1, 64), (4, 125), (9, 216)]\n",
        "```"
      ],
      "metadata": {
        "id": "J_wCDrsHK8Rr"
      }
    },
    {
      "cell_type": "code",
      "source": [
        "list1 = [1, 2, 3]\n",
        "list2 = [4, 5, 6]\n",
        "print(list(map(lambda x: (x[0] ** 2, x[1] ** 3), zip(list1, list2))))"
      ],
      "metadata": {
        "id": "D9mval4GK9PB",
        "colab": {
          "base_uri": "https://localhost:8080/"
        },
        "outputId": "ce76c79f-a9ef-4831-fc46-58e29d8567d3"
      },
      "execution_count": null,
      "outputs": [
        {
          "output_type": "stream",
          "name": "stdout",
          "text": [
            "[(1, 64), (4, 125), (9, 216)]\n"
          ]
        }
      ]
    },
    {
      "cell_type": "markdown",
      "source": [
        "---\n",
        "\n",
        "**Пункт 5:**\n",
        "\n",
        "Напишите программу, которая принимает строку с целыми числами, разделёнными запятыми, и вычисляет сумму чётных чисел из этой строки. Используйте функции `map()`, `filter()`, `lambda` и `reduce()`.\n",
        "\n",
        "**Пример:**\n",
        "\n",
        "```python\n",
        "# Входные данные\n",
        "numbers = '1,2,3,4,5,6,7,8,9,10'\n",
        "\n",
        "# Ожидаемый результат\n",
        "30  # (2 + 4 + 6 + 8 + 10)\n",
        "```"
      ],
      "metadata": {
        "id": "6S0zCchALAAc"
      }
    },
    {
      "cell_type": "code",
      "source": [
        "import functools\n",
        "numbers = '1,2,3,4,5,6,7,8,9,10'.split(',')\n",
        "chet = [str(i) for i in range(0, 10, 2 )]\n",
        "newnum = list(filter(lambda x: x[-1] in chet, numbers))\n",
        "print(functools.reduce((lambda x, y: int(x) + int(y)), newnum))"
      ],
      "metadata": {
        "id": "GSxOpO5CLDN2",
        "colab": {
          "base_uri": "https://localhost:8080/"
        },
        "outputId": "62ec9461-48e5-4f64-b637-a6fb25ca8dff"
      },
      "execution_count": null,
      "outputs": [
        {
          "output_type": "stream",
          "name": "stdout",
          "text": [
            "30\n"
          ]
        }
      ]
    },
    {
      "cell_type": "markdown",
      "source": [
        "\n",
        "---\n",
        "\n",
        "**Пункт 6:**\n",
        "\n",
        "Используя `map()` и `lambda`, преобрауйте список температур в граусах Цельсия в список температур в граусах Фаренгейта. Формула преобраования: F = C * 9/5 + 32.\n",
        "\n",
        "**Пример:**\n",
        "\n",
        "```python\n",
        "# Входные данные\n",
        "celsius = [0, 15, 30, 100]\n",
        "\n",
        "# Ожидаемый результат\n",
        "[32.0, 59.0, 86.0, 212.0]\n",
        "```"
      ],
      "metadata": {
        "id": "XnZG4q22LCSU"
      }
    },
    {
      "cell_type": "code",
      "source": [
        "celsius = [0, 15, 30, 100]\n",
        "print(list(map(lambda x: x * (9/5) + 32, celsius)))"
      ],
      "metadata": {
        "id": "A03mTrhNLC06",
        "colab": {
          "base_uri": "https://localhost:8080/"
        },
        "outputId": "8b7b344d-6807-42b1-fb6f-13426db0a02f"
      },
      "execution_count": null,
      "outputs": [
        {
          "output_type": "stream",
          "name": "stdout",
          "text": [
            "[32.0, 59.0, 86.0, 212.0]\n"
          ]
        }
      ]
    },
    {
      "cell_type": "markdown",
      "source": [
        "---\n",
        "\n",
        "**Пункт 7:**\n",
        "\n",
        "У вас есть список чисел. Используя комбинацию функций `filter()`, `map()` и `lambda`, получите новый список, содержащий квадраты нечётных чисел из исходного списка.\n",
        "\n",
        "**Пример:**\n",
        "\n",
        "```python\n",
        "# Входные данные\n",
        "numbers = [1, 2, 3, 4, 5, 6, 7, 8, 9]\n",
        "\n",
        "# Ожидаемый результат\n",
        "[1, 9, 25, 49, 81]\n",
        "```\n",
        "\n"
      ],
      "metadata": {
        "id": "r-fsnwuhLFXg"
      }
    },
    {
      "cell_type": "code",
      "source": [
        "numbers = [1, 2, 3, 4, 5, 6, 7, 8, 9]\n",
        "print(list(map(lambda x: x ** 2, (filter(lambda x: x % 2 != 0, numbers)))))"
      ],
      "metadata": {
        "id": "ZV0oNPqlLose",
        "colab": {
          "base_uri": "https://localhost:8080/"
        },
        "outputId": "7067d934-d9f4-41ab-c4a7-989f6fc9ad17"
      },
      "execution_count": null,
      "outputs": [
        {
          "output_type": "stream",
          "name": "stdout",
          "text": [
            "[1, 9, 25, 49, 81]\n"
          ]
        }
      ]
    },
    {
      "cell_type": "markdown",
      "source": [
        "---\n",
        "**Пункт 8:**\n",
        "\n",
        "С помощью функции `reduce()` и `lambda` вычислите произведение всех чисел в списке.\n",
        "\n",
        "**Пример:**\n",
        "\n",
        "```python\n",
        "# Входные данные\n",
        "numbers = [1, 2, 3, 4, 5]\n",
        "\n",
        "# Ожидаемый результат\n",
        "120  # (1 * 2 * 3 * 4 * 5)\n",
        "```"
      ],
      "metadata": {
        "id": "Rvn8FWnmLHOP"
      }
    },
    {
      "cell_type": "code",
      "source": [
        "from functools import reduce\n",
        "numbers = [1, 2, 3, 4, 5]\n",
        "print(reduce(lambda x, y: x * y, numbers))"
      ],
      "metadata": {
        "id": "_J-9EEJwLJk-",
        "colab": {
          "base_uri": "https://localhost:8080/"
        },
        "outputId": "0511858e-b46e-4e65-aa6d-9b5ba9275f11"
      },
      "execution_count": null,
      "outputs": [
        {
          "output_type": "stream",
          "name": "stdout",
          "text": [
            "120\n"
          ]
        }
      ]
    },
    {
      "cell_type": "markdown",
      "source": [
        "---\n",
        "\n",
        "**Пункт 9:**\n",
        "\n",
        "Дан список строковых представлений чисел. Используя `map()`, `lambda` и метод строки `isdigit()`, преобразуйте список, заменив нечисловые строки на число 0.\n",
        "\n",
        "**Пример:**\n",
        "\n",
        "```python\n",
        "# Входные данные\n",
        "strings = ['10', '20', 'abc', '30', 'def']\n",
        "\n",
        "# Ожидаемый результат\n",
        "[10, 20, 0, 30, 0]\n",
        "```"
      ],
      "metadata": {
        "id": "_BXHdCrfLJtd"
      }
    },
    {
      "cell_type": "code",
      "source": [
        "strings = ['10', '20', 'abc', '30', 'def']\n",
        "print(list(map(lambda x: int(x) if x.isdigit() == True else 0, strings)))"
      ],
      "metadata": {
        "id": "uOLoUIMmLLwG",
        "colab": {
          "base_uri": "https://localhost:8080/"
        },
        "outputId": "d04c64de-3be7-4b96-eca1-633ddc4a6eae"
      },
      "execution_count": 1,
      "outputs": [
        {
          "output_type": "stream",
          "name": "stdout",
          "text": [
            "[10, 20, 0, 30, 0]\n"
          ]
        }
      ]
    },
    {
      "cell_type": "markdown",
      "source": [
        "---\n",
        "\n",
        "**Пункт 10:**\n",
        "\n",
        "Есть два списка координат X и Y одинаковой длины. Используя `zip()` и `lambda`, объедините их в список точек — кортежей `(x, y)`.\n",
        "\n",
        "**Пример:**\n",
        "\n",
        "```python\n",
        "# Входные данные\n",
        "x_coords = [1, 2, 3]\n",
        "y_coords = [4, 5, 6]\n",
        "\n",
        "# Ожидаемый результат\n",
        "[(1, 4), (2, 5), (3, 6)]\n",
        "```"
      ],
      "metadata": {
        "id": "DovAPjnhLL3i"
      }
    },
    {
      "cell_type": "code",
      "source": [
        "x_coords = [1, 2, 3]\n",
        "y_coords = [4, 5, 6]\n",
        "print(list(zip(x_coords, y_coords)))"
      ],
      "metadata": {
        "id": "BhyGHMK4LPey",
        "colab": {
          "base_uri": "https://localhost:8080/"
        },
        "outputId": "9d237272-339c-4d19-aad1-0c9d4802a88a"
      },
      "execution_count": 2,
      "outputs": [
        {
          "output_type": "stream",
          "name": "stdout",
          "text": [
            "[(1, 4), (2, 5), (3, 6)]\n"
          ]
        }
      ]
    },
    {
      "cell_type": "markdown",
      "source": [
        "---\n",
        "\n",
        "**Пункт 11:**\n",
        "\n",
        "Напишите программу, которая принимает список слов и возвращает словарь, где ключами являются слова, а значениями — длины этих слов. Используйте `map()` и `lambda`.\n",
        "\n",
        "**Пример:**\n",
        "\n",
        "```python\n",
        "# Входные данные\n",
        "words = ['apple', 'banana', 'cherry']\n",
        "\n",
        "# Ожидаемый результат\n",
        "{'apple': 5, 'banana': 6, 'cherry': 6}\n",
        "```"
      ],
      "metadata": {
        "id": "56GJYuVCLOrF"
      }
    },
    {
      "cell_type": "code",
      "source": [
        "words = ['apple', 'banana', 'cherry']\n",
        "print(dict(map(lambda x: (x, len(x)), words)))"
      ],
      "metadata": {
        "id": "8dSc6w2DLS72",
        "colab": {
          "base_uri": "https://localhost:8080/"
        },
        "outputId": "f52bc833-b89a-4d5f-8713-b2ab0dfb21c0"
      },
      "execution_count": 3,
      "outputs": [
        {
          "output_type": "stream",
          "name": "stdout",
          "text": [
            "{'apple': 5, 'banana': 6, 'cherry': 6}\n"
          ]
        }
      ]
    },
    {
      "cell_type": "markdown",
      "source": [
        "---\n",
        "\n",
        "**Пункт 12:**\n",
        "\n",
        "Используя `filter()` и `lambda`, из списка чисел оставьте только простые числа.\n",
        "\n",
        "**Пример:**\n",
        "\n",
        "```python\n",
        "# Входные данные\n",
        "numbers = [2, 3, 4, 5, 6, 7, 8, 9, 10]\n",
        "\n",
        "# Ожидаемый результат\n",
        "[2, 3, 5, 7]\n",
        "```\n",
        "\n",
        "*Подсказка:* Для проверки числа на простоту может понадобиться дополнительная функция.\n"
      ],
      "metadata": {
        "id": "HJ3Yi_p1LRvV"
      }
    },
    {
      "cell_type": "code",
      "source": [
        "def prost(x):\n",
        "    sp = []\n",
        "    for i in range(1, int(x ** (1/2)) + 1):\n",
        "        if x % i == 0:\n",
        "            sp.append(i)\n",
        "            if i != x // i:\n",
        "                sp.append(x // i)\n",
        "    if len(sp) == 2:\n",
        "        return x\n",
        "    else:\n",
        "        return - 1\n",
        "prosti = [1]\n",
        "for i in range(1, 10000):\n",
        "    if prost(i) != -1:\n",
        "        prosti.append(i)\n",
        "numbers = [2, 3, 4, 5, 6, 7, 8, 9, 10]\n",
        "print(list(filter(lambda x: x if x in prosti else '', numbers)))"
      ],
      "metadata": {
        "id": "EiXmhVh0LSks",
        "colab": {
          "base_uri": "https://localhost:8080/"
        },
        "outputId": "27576104-d90b-4168-de8b-ecd4600fe7e2"
      },
      "execution_count": 4,
      "outputs": [
        {
          "output_type": "stream",
          "name": "stdout",
          "text": [
            "[2, 3, 5, 7]\n"
          ]
        }
      ]
    },
    {
      "cell_type": "markdown",
      "source": [
        "---\n",
        "**Пункт 13:**\n",
        "\n",
        "Объедините три списка чисел в один список сумм соответствующих элементов. Используйте `map()`, `lambda` и `zip()`.\n",
        "\n",
        "**Пример:**\n",
        "\n",
        "```python\n",
        "# Входные данные\n",
        "list1 = [1, 2, 3]\n",
        "list2 = [4, 5, 6]\n",
        "list3 = [7, 8, 9]\n",
        "\n",
        "# Ожидаемый результат\n",
        "[12, 15, 18]  # (1+4+7, 2+5+8, 3+6+9)\n",
        "```"
      ],
      "metadata": {
        "id": "3ypTpW-hLWCv"
      }
    },
    {
      "cell_type": "code",
      "source": [
        "list1 = [1, 2, 3]\n",
        "list2 = [4, 5, 6]\n",
        "list3 = [7, 8, 9]\n",
        "print(list(map(lambda x: sum(x), zip(list1, list2, list3))))"
      ],
      "metadata": {
        "id": "QK69qMn-LYig",
        "colab": {
          "base_uri": "https://localhost:8080/"
        },
        "outputId": "eae594eb-1ea1-4f55-f596-5d66321bb762"
      },
      "execution_count": 5,
      "outputs": [
        {
          "output_type": "stream",
          "name": "stdout",
          "text": [
            "[12, 15, 18]\n"
          ]
        }
      ]
    },
    {
      "cell_type": "markdown",
      "source": [
        "---\n",
        "\n",
        "**Пункт 14:**\n",
        "\n",
        "С помощью `reduce()` и `lambda` подсчитайте количество появлений каждого символа в строке (без учета регистра), и выведите символ, который встречается чаще всего.\n",
        "\n",
        "**Пример:**\n",
        "\n",
        "```python\n",
        "# Входные данные\n",
        "text = 'Functional programming with lambda functions'\n",
        "\n",
        "# Ожидаемый результат\n",
        "'n'  # n встречается чаще всего\n",
        "```\n",
        "\n",
        "*Подсказка:* Возможно, понадобится преобразовать строку в список символов и использовать словарь для подсчета."
      ],
      "metadata": {
        "id": "ux8lk6DULYrL"
      }
    },
    {
      "cell_type": "code",
      "source": [
        "from functools import reduce\n",
        "text = 'Functional programming with lambda functions'\n",
        "result = reduce(lambda x, y: {**x, y: x.get(y, 0) + 1}, text.lower(), {})\n",
        "print(max(result, key=result.get))"
      ],
      "metadata": {
        "id": "H5775c9vLlwh",
        "colab": {
          "base_uri": "https://localhost:8080/"
        },
        "outputId": "0bd4e256-0d14-4d5d-b869-dc558fd0d47b"
      },
      "execution_count": 8,
      "outputs": [
        {
          "output_type": "stream",
          "name": "stdout",
          "text": [
            "n\n"
          ]
        }
      ]
    },
    {
      "cell_type": "markdown",
      "source": [
        "---\n",
        "\n",
        "**Пункт 15:**\n",
        "\n",
        "Используя `map()`, `filter()`, `reduce()` и `lambda`, из заданного списка слов найдите общее количество гласных букв.\n",
        "\n",
        "**Пример:**\n",
        "\n",
        "```python\n",
        "# Входные данные\n",
        "words = ['python', 'lambda', 'functions', 'map', 'filter', 'reduce']\n",
        "\n",
        "# Ожидаемый результат\n",
        "13\n",
        "```\n",
        "\n",
        "*Подсказка:* Гласные буквы — 'a', 'e', 'i', 'o', 'u'."
      ],
      "metadata": {
        "id": "VFm4NoORKNEV"
      }
    },
    {
      "cell_type": "code",
      "source": [
        "from functools import reduce\n",
        "words = ['python', 'lambda', 'functions', 'map', 'filter', 'reduce']\n",
        "result = reduce(lambda x, y: x + y, map(lambda word: sum(map(lambda char: char in 'aeiou', word)), words))\n",
        "print(result)"
      ],
      "metadata": {
        "id": "QGrZe4tWLiYW",
        "colab": {
          "base_uri": "https://localhost:8080/"
        },
        "outputId": "289e8ec1-c755-4a86-ce4a-d270ebd95cb8"
      },
      "execution_count": 9,
      "outputs": [
        {
          "output_type": "stream",
          "name": "stdout",
          "text": [
            "12\n"
          ]
        }
      ]
    },
    {
      "cell_type": "markdown",
      "source": [
        "---"
      ],
      "metadata": {
        "id": "9xSbH7rdM4MS"
      }
    }
  ]
}
