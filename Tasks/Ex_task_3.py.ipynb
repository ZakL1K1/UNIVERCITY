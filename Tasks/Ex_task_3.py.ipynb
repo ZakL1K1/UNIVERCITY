{
  "cells": [
    {
      "cell_type": "markdown",
      "metadata": {
        "id": "view-in-github",
        "colab_type": "text"
      },
      "source": [
        "<a href=\"https://colab.research.google.com/github/ZakL1K1/UNIVERCITY/blob/main/Tasks/Ex_task_3.py.ipynb\" target=\"_parent\"><img src=\"https://colab.research.google.com/assets/colab-badge.svg\" alt=\"Open In Colab\"/></a>"
      ]
    },
    {
      "cell_type": "markdown",
      "id": "bb332bf9",
      "metadata": {
        "id": "bb332bf9"
      },
      "source": [
        "# **Дополнительное задание №3. Обработка исключений и работа с текстовыми файлами**"
      ]
    },
    {
      "cell_type": "markdown",
      "id": "aa6808db",
      "metadata": {
        "id": "aa6808db"
      },
      "source": [
        "**БАЗА:**\n",
        "\n",
        "- **Обработка исключений** позволяет перехватывать и обрабатывать ошибки, возникающие при выполнении программы, предотвращая её аварийное завершение.\n",
        "- **Работа с файлами** - важный навык для чтения, записи и обработки текстовой информации в Python.\n",
        "\n",
        "---"
      ]
    },
    {
      "cell_type": "markdown",
      "id": "2478deca",
      "metadata": {
        "id": "2478deca"
      },
      "source": [
        "## **I. Обработка исключений**"
      ]
    },
    {
      "cell_type": "markdown",
      "id": "0ab0b851",
      "metadata": {
        "id": "0ab0b851"
      },
      "source": [
        "### **Пункт №1. Обработка некорректного индекса (IndexError)**"
      ]
    },
    {
      "cell_type": "markdown",
      "id": "46e69e1f",
      "metadata": {
        "id": "46e69e1f"
      },
      "source": [
        "Создайте список из нескольких элементов (например, [10, 20, 30]). Попросите пользователя ввести индекс элемента, который нужно вывести. Если пользователь введёт индекс, выходящий за границы списка, перехватите IndexError и сообщите об этом.\n",
        "\n",
        "**ОБЯЗАТЕЛЬНО:**\n",
        "- Создайте список из минимум 5 элементов\n",
        "- Покажите содержимое списка перед работой\n",
        "- Протестируйте минимум 4 случая (корректный индекс, отрицательный, слишком большой, нечисловое значение)"
      ]
    },
    {
      "cell_type": "code",
      "execution_count": null,
      "id": "724c5954",
      "metadata": {
        "id": "724c5954",
        "colab": {
          "base_uri": "https://localhost:8080/"
        },
        "outputId": "6df48ad7-7d87-4e0c-bccc-c3dc352e3492"
      },
      "outputs": [
        {
          "output_type": "stream",
          "name": "stdout",
          "text": [
            "[23, 21, 16, 17, 28]\n",
            "Введите индекс для вывода числа из списка:2\n",
            "16\n",
            "[23, 21, 16, 17, 28]\n",
            "Введите индекс для вывода числа из списка:-2\n",
            "17\n",
            "[23, 21, 16, 17, 28]\n",
            "Введите индекс для вывода числа из списка:3232332\n",
            "Данного индекса не существует в списке!!!!\n",
            "[23, 21, 16, 17, 28]\n",
            "Введите индекс для вывода числа из списка:вваава\n",
            "Введите число!!!\n"
          ]
        }
      ],
      "source": [
        "sp = [23, 21, 16, 17, 28]\n",
        "for i in range(4):\n",
        "    try:\n",
        "        print(sp)\n",
        "        choise = int(input(\"Введите индекс для вывода числа из списка:\"))\n",
        "        print(sp[choise])\n",
        "    except IndexError:\n",
        "        print(\"Данного индекса не существует в списке!!!!\")\n",
        "    except ValueError:\n",
        "        print(\"Введите число!!!\")\n",
        "\n"
      ]
    },
    {
      "cell_type": "markdown",
      "id": "7ac84eec",
      "metadata": {
        "id": "7ac84eec"
      },
      "source": [
        "---"
      ]
    },
    {
      "cell_type": "markdown",
      "id": "f8bfb6e1",
      "metadata": {
        "id": "f8bfb6e1"
      },
      "source": [
        "### **Пункт №2. Обработка исключений в цикле**"
      ]
    },
    {
      "cell_type": "markdown",
      "id": "63c3b706",
      "metadata": {
        "id": "63c3b706"
      },
      "source": [
        "Напишите программу, которая запрашивает у пользователя числа и добавляет их в список.\n",
        "- Если пользователь вводит некорректные данные, программа должна выводить сообщение об ошибке и продолжать работу.\n",
        "- Для выхода из программы пользователь должен ввести \"стоп\".\n",
        "\n",
        "**ОБЯЗАТЕЛЬНО:**\n",
        "- Покажите процесс ввода минимум 7 значений (включая ошибочные)\n",
        "- Выведите финальный список и статистику (сколько чисел введено успешно, сколько ошибок)"
      ]
    },
    {
      "cell_type": "markdown",
      "source": [
        "\n",
        "\n",
        "```\n",
        "# Пример:\n",
        "# Введите число: 10\n",
        "# Введите число: текст (Ошибка: это не число)\n",
        "# Введите число: стоп\n",
        "# Итоговый список: [10]\n",
        "```\n",
        "\n"
      ],
      "metadata": {
        "id": "aiWaEPOuoHDS"
      },
      "id": "aiWaEPOuoHDS"
    },
    {
      "cell_type": "code",
      "execution_count": null,
      "id": "31448e09",
      "metadata": {
        "id": "31448e09",
        "colab": {
          "base_uri": "https://localhost:8080/"
        },
        "outputId": "6b5d6a53-c913-4518-f607-cbc16f04ec8e"
      },
      "outputs": [
        {
          "output_type": "stream",
          "name": "stdout",
          "text": [
            "33\n",
            "22\n",
            "авава\n",
            "Ошибка: это не число\n",
            "767\n",
            "999\n",
            "-32\n",
            "аваа\n",
            "Ошибка: это не число\n",
            "стоп\n",
            "Чисел введено успешно: 5\n",
            "Чисел введено неверно: 2\n",
            "Итоговый список:[33, 22, 767, 999, -32]\n"
          ]
        }
      ],
      "source": [
        "sp = []\n",
        "cnt_correct = 0\n",
        "cnt_incorrect = 0\n",
        "while True:\n",
        "    try:\n",
        "        choise = input()\n",
        "        if choise.lower() == 'стоп':\n",
        "            print(f\"Чисел введено успешно: {cnt_correct}\\nЧисел введено неверно: {cnt_incorrect}\\nИтоговый список:{sp}\")\n",
        "            break\n",
        "        sp.append(int(choise))\n",
        "        cnt_correct += 1\n",
        "    except ValueError:\n",
        "        print(\"Ошибка: это не число\")\n",
        "        cnt_incorrect += 1\n",
        "    except Exception as e:\n",
        "        print(f\"Ошибка: {e}\")\n",
        "        cnt_incorrect += 1"
      ]
    },
    {
      "cell_type": "markdown",
      "metadata": {
        "id": "Yv-FNYTEp0vV"
      },
      "source": [
        "---"
      ],
      "id": "Yv-FNYTEp0vV"
    },
    {
      "cell_type": "markdown",
      "id": "5971f85d",
      "metadata": {
        "id": "5971f85d"
      },
      "source": [
        "### **Пункт №3**"
      ]
    },
    {
      "cell_type": "markdown",
      "id": "b1457074",
      "metadata": {
        "id": "b1457074"
      },
      "source": [
        "Создайте функцию `get_list_element(lst, index)`, которая безопасно извлекает элемент списка по индексу с использованием блоков `try`, `except`, `else` и `finally`.\n",
        "\n",
        "Функция должна:\n",
        "- Обрабатывать выход за пределы списка\n",
        "- Обрабатывать некорректный тип индекса\n",
        "- Выводить сообщение о попытке доступа в блоке `finally`\n",
        "\n",
        "**ОБЯЗАТЕЛЬНО:**\n",
        "- Выведите результаты для минимум 4 различных случаев (успешный доступ, выход за границы, отрицательный индекс, нечисловой индекс)\n",
        "- Покажите, что блок `finally` выполняется всегда\n",
        "\n",
        "```python\n",
        "# Пример использования:\n",
        "my_list = [1, 2, 3, 4, 5]\n",
        "get_list_element(my_list, 2)   # Вывод: \"Элемент: 3\", \"Попытка доступа завершена\"\n",
        "get_list_element(my_list, 10)  # Вывод: \"Индекс вне диапазона\", \"Попытка доступа завершена\"\n",
        "```"
      ]
    },
    {
      "cell_type": "code",
      "execution_count": null,
      "id": "1c067cf3",
      "metadata": {
        "id": "1c067cf3",
        "colab": {
          "base_uri": "https://localhost:8080/"
        },
        "outputId": "4d02e373-b15b-4cd6-d858-44a19d9236c4"
      },
      "outputs": [
        {
          "output_type": "stream",
          "name": "stdout",
          "text": [
            "Введите индекс:\t-100000\n",
            "Индекс вне диапозона\n",
            "Попытка доступа завершена\n",
            "\n",
            "Введите индекс:\t2\n",
            "Элемент: 3\n",
            "Попытка доступа завершена\n",
            "\n",
            "Введите индекс:\t-2\n",
            "Элемент: 4\n",
            "Попытка доступа завершена\n",
            "\n",
            "Введите индекс:\tdfdfdf\n",
            "Некорректный тип индекса\n",
            "Попытка доступа завершена\n",
            "\n"
          ]
        }
      ],
      "source": [
        "def get_list_element(lst, index):\n",
        "    try:\n",
        "        el = lst[int(index)]\n",
        "    except IndexError:\n",
        "        print(\"Индекс вне диапозона\")\n",
        "    except ValueError:\n",
        "        print(\"Некорректный тип индекса\")\n",
        "    except Exception as e:\n",
        "        print(f\"Ошибка: {e}\")\n",
        "    else:\n",
        "        print(f\"Элемент: {el}\")\n",
        "    finally:\n",
        "        print(\"Попытка доступа завершена\\n\")\n",
        "my_list = [1, 2, 3, 4, 5]\n",
        "for i in range(4):\n",
        "    result = get_list_element(my_list, input(\"Введите индекс:\\t\"))\n",
        "    if result != None:\n",
        "        continue"
      ]
    },
    {
      "cell_type": "markdown",
      "id": "b5bb39c7",
      "metadata": {
        "id": "b5bb39c7"
      },
      "source": [
        "---"
      ]
    },
    {
      "cell_type": "markdown",
      "id": "b0972d59",
      "metadata": {
        "id": "b0972d59"
      },
      "source": [
        "## **II. Работа с текстовыми файлами**"
      ]
    },
    {
      "cell_type": "markdown",
      "id": "35729435",
      "metadata": {
        "id": "35729435"
      },
      "source": [
        "### **Пункт №1. Запись в файл**"
      ]
    },
    {
      "cell_type": "markdown",
      "id": "3121365f",
      "metadata": {
        "id": "3121365f"
      },
      "source": [
        "Напишите программу, которая запрашивает у пользователя строку и записывает её в файл output.txt в режиме дозаписи.\n",
        "\n",
        "**ОБЯЗАТЕЛЬНО:**\n",
        "- Запросите у пользователя минимум 3 строки\n",
        "- Покажите содержимое файла после записи"
      ]
    },
    {
      "cell_type": "code",
      "execution_count": null,
      "id": "cbce6c5f",
      "metadata": {
        "id": "cbce6c5f",
        "colab": {
          "base_uri": "https://localhost:8080/"
        },
        "outputId": "f8fd434c-d669-43e3-bfee-9af739ac82e1"
      },
      "outputs": [
        {
          "output_type": "stream",
          "name": "stdout",
          "text": [
            "Введите три строки:\n",
            "Яблоко\n",
            "Арбуз\n",
            "Персик\n",
            "Содержимое вашего файла:\n",
            "Яблоко\n",
            "Арбуз\n",
            "Персик\n",
            "\n"
          ]
        }
      ],
      "source": [
        "with open(file = 'output.txt', mode = 'w', encoding = 'utf8') as File:\n",
        "    print(\"Введите три строки:\")\n",
        "    sp = []\n",
        "    for i in range(3):\n",
        "        slovo = sp.append(input() + '\\n')\n",
        "    File.writelines(sp)\n",
        "with open('output.txt', encoding = 'utf8') as text:\n",
        "    content = text.read()\n",
        "    print(f'Содержимое вашего файла:\\n{content}')"
      ]
    },
    {
      "cell_type": "markdown",
      "id": "361b3d2b",
      "metadata": {
        "id": "361b3d2b"
      },
      "source": [
        "---"
      ]
    },
    {
      "cell_type": "markdown",
      "id": "cce864b4",
      "metadata": {
        "id": "cce864b4"
      },
      "source": [
        "### **Пункт №2. Чтение из файла**"
      ]
    },
    {
      "cell_type": "markdown",
      "id": "4fc83b82",
      "metadata": {
        "id": "4fc83b82"
      },
      "source": [
        "Напишите программу, которая открывает файл output.txt и выводит его содержимое на экран.\n",
        "\n",
        "**ОБЯЗАТЕЛЬНО:**\n",
        "- Создайте файл с минимум 5 строками текста\n",
        "- Покажите содержимое файла целиком\n",
        "- Обработайте случай отсутствующего файла"
      ]
    },
    {
      "cell_type": "code",
      "execution_count": null,
      "id": "df27a986",
      "metadata": {
        "id": "df27a986",
        "colab": {
          "base_uri": "https://localhost:8080/"
        },
        "outputId": "d06e902a-52fd-431c-e258-f5a9b56bf595"
      },
      "outputs": [
        {
          "output_type": "stream",
          "name": "stdout",
          "text": [
            "Введите еще две строчки:\t\n",
            "Мясо\n",
            "Рыба\n",
            "Введите файл, у которого хотите просмотреть содержимое:\tOUTPUT.TXT\n",
            "Ошибка файл OUTPUT.TXT не найден!!!!\n",
            "Попробуйте ввести другое название файла!\n",
            "Введите файл, у которого хотите просмотреть содержимое:\toutput.txt\n",
            "Содержимое вашего файла output.txt\n",
            "Яблоко\n",
            "Арбуз\n",
            "Персик\n",
            "Мясо\n",
            "Рыба\n",
            "\n"
          ]
        }
      ],
      "source": [
        "def output(x):\n",
        "    try:\n",
        "        with open(x, encoding = 'utf8') as text:\n",
        "            content = text.read()\n",
        "        print(f\"Содержимое вашего файла {x}\")\n",
        "        print(content)\n",
        "        return True\n",
        "    except FileNotFoundError:\n",
        "        print(f\"Ошибка файл {x} не найден!!!!\")\n",
        "        print('Попробуйте ввести другое название файла!')\n",
        "        return False\n",
        "    except Exception as e:\n",
        "        print(f'Ошибка {e}')\n",
        "        print('Попробуйте ввести другое название файла!')\n",
        "        return False\n",
        "with open('output.txt', mode = 'a', encoding = 'utf8') as file:\n",
        "    print(\"Введите еще две строчки:\\t\")\n",
        "    for i in range(2):\n",
        "        file.write(input() + '\\n')\n",
        "while True:\n",
        "  a = output(input(f\"Введите файл, у которого хотите просмотреть содержимое:\\t\"))\n",
        "  if a:\n",
        "    break"
      ]
    },
    {
      "cell_type": "markdown",
      "id": "2be296a2",
      "metadata": {
        "id": "2be296a2"
      },
      "source": [
        "---"
      ]
    },
    {
      "cell_type": "markdown",
      "id": "045696ba",
      "metadata": {
        "id": "045696ba"
      },
      "source": [
        "### **Пункт №3. Подсчет строк в файле**"
      ]
    },
    {
      "cell_type": "markdown",
      "id": "570ac3e9",
      "metadata": {
        "id": "570ac3e9"
      },
      "source": [
        "Напишите программу, которая открывает файл output.txt и подсчитывает количество строк в нём.\n",
        "\n",
        "**ОБЯЗАТЕЛЬНО:**\n",
        "- Создайте тестовый файл с известным количеством строк (минимум 10)\n",
        "- Покажите первые 3 строки файла\n",
        "- Выведите общее количество строк\n",
        "- Выведите количество непустых строк"
      ]
    },
    {
      "cell_type": "code",
      "execution_count": null,
      "id": "84aa205a",
      "metadata": {
        "id": "84aa205a",
        "colab": {
          "base_uri": "https://localhost:8080/"
        },
        "outputId": "8bf5e274-dcd3-47e5-d775-e2695d6aa773"
      },
      "outputs": [
        {
          "output_type": "stream",
          "name": "stdout",
          "text": [
            "Первые три строчки файла:\n",
            "'Колесо'\n",
            "'Руль'\n",
            "'Кресло'\n",
            "Общее количество строчек: 10\n",
            "Количество непустых строчек: 7\n"
          ]
        }
      ],
      "source": [
        "sp = [\"Колесо\\n\", 'Руль\\n', '\\n', 'Кресло\\n', 'Рыба\\n', '\\n', 'Чупеп\\n', '  \\n', 'Луна\\n', 'Камень']\n",
        "with open(\"output.txt\", mode = \"w\", encoding ='utf8') as file:\n",
        "    file.writelines(sp)\n",
        "    file.seek(0)\n",
        "cnt_something = 0\n",
        "cnt_nothing = 0\n",
        "cnt = 0\n",
        "with open(\"output.txt\", mode = \"r\", encoding = \"utf8\") as text:\n",
        "    a = text.readlines()\n",
        "    print(\"Первые три строчки файла:\")\n",
        "    for i in range(len(a)):\n",
        "        if a[i].strip() == '':\n",
        "            cnt_nothing += 1\n",
        "        else:\n",
        "            cnt_something += 1\n",
        "        if cnt < 3 and a[i].rstrip() != '':\n",
        "            line_content = a[i].rstrip()\n",
        "            print(f\"'{line_content}'\")\n",
        "            cnt += 1\n",
        "print(f\"Общее количество строчек: {cnt_nothing + cnt_something}\\nКоличество непустых строчек: {cnt_something}\")"
      ]
    },
    {
      "cell_type": "markdown",
      "id": "94c6dcb0",
      "metadata": {
        "id": "94c6dcb0"
      },
      "source": [
        "---"
      ]
    },
    {
      "cell_type": "markdown",
      "id": "56f2a74e",
      "metadata": {
        "id": "56f2a74e"
      },
      "source": [
        "### **Пункт №4. Копирование содержимого файла**"
      ]
    },
    {
      "cell_type": "markdown",
      "id": "ed736046",
      "metadata": {
        "id": "ed736046"
      },
      "source": [
        "Напишите программу, которая копирует содержимое файла input.txt в файл output.txt.\n",
        "\n",
        "**ОБЯЗАТЕЛЬНО:**\n",
        "- Создайте исходный файл с тестовым содержимым (минимум 5 строк)\n",
        "- Покажите содержимое исходного файла\n",
        "- Выполните копирование\n",
        "- Покажите содержимое скопированного файла\n",
        "- Обработайте случай отсутствия исходного файла"
      ]
    },
    {
      "cell_type": "code",
      "execution_count": null,
      "id": "31bd8a06",
      "metadata": {
        "id": "31bd8a06",
        "colab": {
          "base_uri": "https://localhost:8080/"
        },
        "outputId": "5e0c2c29-252a-43ec-9b25-5ab39d356683"
      },
      "outputs": [
        {
          "output_type": "stream",
          "name": "stdout",
          "text": [
            "Содержимое исходного файла \"output.txt\":\n",
            "Колесо\n",
            "Руль\n",
            "\n",
            "Кресло\n",
            "Рыба\n",
            "\n",
            "Чупеп\n",
            "  \n",
            "Луна\n",
            "Камень\n",
            "\n",
            "Введите название файла который хотите скопировать: inputt.txt\n",
            "Ошибка: Файл не найден!!!!\n",
            "Введите название файла который хотите скопировать: input.txt\n",
            "Содержимое файла \"output.txt\", после копирования:\n",
            "Колесо\n",
            "Руль\n",
            "\n",
            "Кресло\n",
            "Рыба\n",
            "\n",
            "Чупеп\n",
            "  \n",
            "Луна\n",
            "КаменьPudge\n",
            "Pugna\n",
            "Ember Spirit\n",
            "Ryan\n"
          ]
        }
      ],
      "source": [
        "def copy(x):\n",
        "  try:\n",
        "    with open(x, encoding = 'utf8') as text:\n",
        "      with open('output.txt', mode = 'a', encoding = 'utf8') as file:\n",
        "        file.writelines(text.readlines())\n",
        "        return True\n",
        "  except FileNotFoundError:\n",
        "    print('Ошибка: Файл не найден!!!!')\n",
        "    return False\n",
        "  except Exception as e:\n",
        "    print(f'Ошибка: {e}')\n",
        "    return False\n",
        "with open(\"output.txt\", 'r', encoding='utf8') as file:\n",
        "  out = file.read()\n",
        "  print(f'Содержимое исходного файла \"output.txt\":\\n{out}\\n')\n",
        "\n",
        "sp = ['Pudge\\n', 'Pugna\\n', 'Ember Spirit\\n', 'Ryan']\n",
        "with open(\"input.txt\", mode = 'w', encoding = 'utf8') as file:\n",
        "      file.writelines(sp)\n",
        "while True:\n",
        "  a = copy(input('Введите название файла который хотите скопировать: '))\n",
        "  if a:\n",
        "    with open(\"output.txt\", 'r', encoding='utf8') as file:\n",
        "      out = file.read()\n",
        "      print(f'Содержимое файла \"output.txt\", после копирования:\\n{out}')\n",
        "    break"
      ]
    },
    {
      "cell_type": "markdown",
      "id": "2f7c8ee5",
      "metadata": {
        "id": "2f7c8ee5"
      },
      "source": [
        "---"
      ]
    },
    {
      "cell_type": "markdown",
      "id": "70ee398b",
      "metadata": {
        "id": "70ee398b"
      },
      "source": [
        "### **Пункт №5. Поиск слова в файле**"
      ]
    },
    {
      "cell_type": "markdown",
      "id": "c67f8987",
      "metadata": {
        "id": "c67f8987"
      },
      "source": [
        "Напишите программу, которая открывает файл output.txt и проверяет, содержится ли в нём слово, введённое пользователем.\n",
        "\n",
        "**ОБЯЗАТЕЛЬНО:**\n",
        "- Создайте файл с минимум 10 строками текста\n",
        "- Покажите содержимое файла\n",
        "- Протестируйте поиск минимум 5 различных слов\n",
        "- Выведите номера строк, где найдено слово\n",
        "- Покажите количество вхождений слова"
      ]
    },
    {
      "cell_type": "code",
      "execution_count": null,
      "id": "d961bbf3",
      "metadata": {
        "id": "d961bbf3",
        "colab": {
          "base_uri": "https://localhost:8080/"
        },
        "outputId": "182d330e-b92c-4c3e-e7e3-e860011e6ad8"
      },
      "outputs": [
        {
          "name": "stdout",
          "output_type": "stream",
          "text": [
            "Содержимое файла:\n",
            "Мама мыла раму\n",
            "Рама мыла маму\n",
            "Мама раму не мыла\n",
            "Рама маму не мыла\n",
            "Мыла мама раму\n",
            "Мыла рама маму\n",
            "Не мыла мама раму\n",
            "Не мыла рама маму\n",
            "Мама и рама мыли\n",
            "Рама и мама мыли\n",
            "Кот сидел на раме\n",
            "На раме сидел кот\n",
            "Введите слово для поиска:Мама\n",
            "Номера строк где найдено слово: 1, 3, 5, 7, 9, 10\n",
            "Общее количество вхождений слова: 6\n",
            "\n",
            "Введите слово для поиска:Рама\n",
            "Номера строк где найдено слово: 2, 4, 6, 8, 9, 10\n",
            "Общее количество вхождений слова: 6\n",
            "\n",
            "Введите слово для поиска:и\n",
            "Номера строк где найдено слово: 9, 10, 11, 12\n",
            "Общее количество вхождений слова: 4\n",
            "\n",
            "Введите слово для поиска:НЕ\n",
            "Номера строк где найдено слово: 3, 4, 7, 8\n",
            "Общее количество вхождений слова: 4\n",
            "\n",
            "Введите слово для поиска:кукукуку\n",
            "Слово не найдено\n",
            "\n",
            "Введите слово для поиска:exit\n"
          ]
        }
      ],
      "source": [
        "sp = [\"Мама мыла раму\\n\", \"Рама мыла маму\\n\", \"Мама раму не мыла\\n\", \"Рама маму не мыла\\n\",\n",
        "      \"Мыла мама раму\\n\", \"Мыла рама маму\\n\", \"Не мыла мама раму\\n\", \"Не мыла рама маму\\n\",\n",
        "      \"Мама и рама мыли\\n\", \"Рама и мама мыли\\n\", \"Кот сидел на раме\\n\", \"На раме сидел кот\"]\n",
        "with open('output.txt', mode = 'w+', encoding = 'utf8') as file:\n",
        "    file.writelines(sp)\n",
        "    file.seek(0)\n",
        "    f = file.readlines()\n",
        "    print('Содержимое файла:')\n",
        "    for i in f: print(i, end = '')\n",
        "    while True:\n",
        "        slovo = input('\\nВведите слово для поиска:')\n",
        "        if slovo.lower() == 'exit':\n",
        "            break\n",
        "        ind = []\n",
        "        count = 0\n",
        "        for i in range(len(f)):\n",
        "            if slovo.lower() in f[i].rstrip().lower():\n",
        "                ind.append(str(i+1))\n",
        "                count += 1\n",
        "        if ind:\n",
        "            print(f'Номера строк где найдено слово: {\", \".join(ind)}')\n",
        "            print(f'Общее количество вхождений слова: {count}')\n",
        "        else:\n",
        "            print('Слово не найдено')"
      ]
    },
    {
      "cell_type": "markdown",
      "id": "8d69c77a",
      "metadata": {
        "id": "8d69c77a"
      },
      "source": [
        "---"
      ]
    },
    {
      "cell_type": "markdown",
      "id": "0079e067",
      "metadata": {
        "id": "0079e067"
      },
      "source": [
        "### **Пункт №6. Чтение файла с обработкой FileNotFoundError**"
      ]
    },
    {
      "cell_type": "markdown",
      "id": "c3d27312",
      "metadata": {
        "id": "c3d27312"
      },
      "source": [
        "Напишите программу, которая запрашивает у пользователя имя файла и пытается открыть его. Если файла не существует, перехватите FileNotFoundError и выведите сообщение «Файл не найден!».\n",
        "\n",
        "**ОБЯЗАТЕЛЬНО:**\n",
        "- Протестируйте с существующим файлом\n",
        "- Протестируйте с несуществующим файлом\n",
        "- Покажите содержимое существующего файла"
      ]
    },
    {
      "cell_type": "code",
      "execution_count": 3,
      "id": "0c262bd2",
      "metadata": {
        "id": "0c262bd2",
        "colab": {
          "base_uri": "https://localhost:8080/"
        },
        "outputId": "a4ae4260-fe6d-4a92-8866-bc3c100c65fd"
      },
      "outputs": [
        {
          "output_type": "stream",
          "name": "stdout",
          "text": [
            "Введите название файла который хотите прочитать:aoooooa.txt\n",
            "Ошибка: Файл не найден!!!\n",
            "Введите название файла который хотите прочитать:information.txt\n",
            "Pudge\n",
            "Pugna\n",
            "Ember Spirit\n",
            "Ryan\n"
          ]
        }
      ],
      "source": [
        "def read(x):\n",
        "    try:\n",
        "        with open(x, encoding = 'utf8') as text:\n",
        "            print(text.read())\n",
        "            return True\n",
        "    except FileNotFoundError:\n",
        "        print('Ошибка: Файл не найден!!!')\n",
        "        return False\n",
        "    except Exception as e:\n",
        "        print(f'Ошибка: {e}')\n",
        "sp = ['Pudge\\n', 'Pugna\\n', 'Ember Spirit\\n', 'Ryan']\n",
        "with open('information.txt', mode = 'w', encoding = 'utf8') as file:\n",
        "  file.writelines(sp)\n",
        "while True:\n",
        "    a = read(input(\"Введите название файла который хотите прочитать:\"))\n",
        "    if a:\n",
        "        break\n",
        ""
      ]
    },
    {
      "cell_type": "markdown",
      "id": "c3258b46",
      "metadata": {
        "id": "c3258b46"
      },
      "source": [
        "---"
      ]
    },
    {
      "cell_type": "markdown",
      "id": "02e0767b",
      "metadata": {
        "id": "02e0767b"
      },
      "source": [
        "### **Пункт №7. Подсчет статистики файла**"
      ]
    },
    {
      "cell_type": "markdown",
      "id": "1c33b711",
      "metadata": {
        "id": "1c33b711"
      },
      "source": [
        "Напишите функцию `file_statistics(filename)`, которая читает текстовый файл и возвращает словарь со статистикой:\n",
        "- Количество строк\n",
        "- Количество слов\n",
        "- Количество символов (с пробелами и без)\n",
        "\n",
        "**ОБЯЗАТЕЛЬНО:**\n",
        "- Создайте тестовый файл с минимум 5 строками текста\n",
        "- Выведите содержимое файла ДО обработки\n",
        "- Выведите полученную статистику\n",
        "- Обработайте случай несуществующего файла\n",
        "\n",
        "```python\n",
        "# Создание тестового файла\n",
        "test_content = \"\"\"Первая строка текста\n",
        "Вторая строка с большим количеством слов\n",
        "Третья строка\n",
        "Четвертая строка для теста\n",
        "Пятая и последняя строка\"\"\"\n",
        "\n",
        "# Сохраните в файл и продемонстрируйте работу\n",
        "```"
      ]
    },
    {
      "cell_type": "code",
      "execution_count": 4,
      "id": "43bfd6b8",
      "metadata": {
        "id": "43bfd6b8",
        "colab": {
          "base_uri": "https://localhost:8080/"
        },
        "outputId": "7248c25b-a0a2-4043-b0c7-fe7d7ce64a39"
      },
      "outputs": [
        {
          "output_type": "stream",
          "name": "stdout",
          "text": [
            "Введите название файла для его дальнейшей статистики:fdfdf.txt\n",
            "Ошибка: Файл не найден! Попробуйте еще раз\n",
            "Введите название файла для его дальнейшей статистики:3232323\n",
            "Ошибка: Файл не найден! Попробуйте еще раз\n",
            "Введите название файла для его дальнейшей статистики:Content.txt\n",
            "Содержимое файла: \n",
            "Первая строка текста\n",
            "Вторая строка с большим количеством слов\n",
            "Третья строка\n",
            "Четвертая строка для теста\n",
            "Пятая и последняя строка\n",
            "cnt_lines 5\n",
            "cnt_words 19\n",
            "cnt_symbols_with_spaces 127\n",
            "cnt_symbols_without_spaces 109\n"
          ]
        }
      ],
      "source": [
        "def file_statistics(filename):\n",
        "    try:\n",
        "        stat = {'cnt_lines': 0, 'cnt_words': 0, 'cnt_symbols_with_spaces': 0, 'cnt_symbols_without_spaces': 0}\n",
        "        with open(filename, encoding = 'utf8') as text:\n",
        "            content = text.read()\n",
        "            print(f'Содержимое файла: \\n{content}')\n",
        "            text.seek(0)\n",
        "            inf = text.readlines()\n",
        "            stat['cnt_lines'] += len(inf)\n",
        "            stat['cnt_words'] += len(content.split())\n",
        "            stat['cnt_symbols_with_spaces'] += len(content)\n",
        "            stat['cnt_symbols_without_spaces'] += len(content.replace(' ', '').replace('\\n',''))\n",
        "        return stat\n",
        "    except FileNotFoundError:\n",
        "        print('Ошибка: Файл не найден! Попробуйте еще раз')\n",
        "        return False\n",
        "    except Exception as e:\n",
        "        print(f'Ошибка: {e}')\n",
        "        return False\n",
        "test_content = ['Первая строка текста\\n', 'Вторая строка с большим количеством слов\\n', 'Третья строка\\n', 'Четвертая строка для теста\\n', 'Пятая и последняя строка']\n",
        "with open('Content.txt', mode = 'w+', encoding = 'utf8') as file:\n",
        "    file.writelines(test_content)\n",
        "    file.seek(0)\n",
        "while True:\n",
        "    a = file_statistics(input('Введите название файла для его дальнейшей статистики:'))\n",
        "    if a != False:\n",
        "        for key, value in a.items():\n",
        "            print(key, value)\n",
        "        break"
      ]
    },
    {
      "cell_type": "markdown",
      "id": "903281dd",
      "metadata": {
        "id": "903281dd"
      },
      "source": [
        "---"
      ]
    },
    {
      "cell_type": "markdown",
      "id": "ad8b4ae4",
      "metadata": {
        "id": "ad8b4ae4"
      },
      "source": [
        "### **Пункт №8. Поиск и замена в файле**"
      ]
    },
    {
      "cell_type": "markdown",
      "id": "e5230d0a",
      "metadata": {
        "id": "e5230d0a"
      },
      "source": [
        "Напишите функцию `replace_in_file(filename, old_text, new_text)`, которая заменяет все вхождения `old_text` на `new_text` в файле и сохраняет результат в новый файл с префиксом \"modified_\".\n",
        "\n",
        "**ОБЯЗАТЕЛЬНО:**\n",
        "- Создайте файл с текстом, содержащим минимум 3 вхождения заменяемого слова\n",
        "- Выведите содержимое файла ДО замены\n",
        "- Выполните замену\n",
        "- Выведите содержимое файла ПОСЛЕ замены\n",
        "- Покажите количество произведенных замен"
      ]
    },
    {
      "cell_type": "code",
      "execution_count": 5,
      "id": "64a05e35",
      "metadata": {
        "id": "64a05e35",
        "colab": {
          "base_uri": "https://localhost:8080/"
        },
        "outputId": "5151ea66-00d8-4039-a3a1-7dd6223060b4"
      },
      "outputs": [
        {
          "output_type": "stream",
          "name": "stdout",
          "text": [
            "Содержимое файла: \n",
            "Python это Python язык программирования Python который Python нравится многим Python\n",
            "Произведено замен: 5\n",
            "Содержимое файла после замен:\n",
            "С++ это С++ язык программирования С++ который С++ нравится многим С++\n"
          ]
        }
      ],
      "source": [
        "def replace_in_file(filename, old_text, new_text):\n",
        "    cnt = 0\n",
        "    with open(filename, encoding = 'utf8') as text:\n",
        "        words = text.read()\n",
        "        print(f'Содержимое файла: \\n{words}')\n",
        "        cnt += words.count(old_text)\n",
        "        words = words.replace(old_text, new_text)\n",
        "        with open('modified_' +filename, mode = 'w+', encoding = 'utf8') as file:\n",
        "            file.writelines(words)\n",
        "            file.seek(0)\n",
        "            print(f'Произведено замен: {cnt}')\n",
        "            print(f'Содержимое файла после замен:\\n{file.read()}')\n",
        "test_content = [\"Python это Python язык программирования Python который Python нравится многим Python\"]\n",
        "with open('file.txt', mode = 'w', encoding = 'utf8') as file:\n",
        "    file.writelines(test_content)\n",
        "replace_in_file('file.txt', 'Python', 'С++')"
      ]
    },
    {
      "cell_type": "markdown",
      "id": "f77b0568",
      "metadata": {
        "id": "f77b0568"
      },
      "source": [
        "---"
      ]
    },
    {
      "cell_type": "markdown",
      "id": "79a081b1",
      "metadata": {
        "id": "79a081b1"
      },
      "source": [
        "### **Пункт №9. Объединение файлов**"
      ]
    },
    {
      "cell_type": "markdown",
      "id": "599cee3c",
      "metadata": {
        "id": "599cee3c"
      },
      "source": [
        "Создайте функцию `merge_files(file_list, output_file)`, которая объединяет содержимое нескольких текстовых файлов в один, добавляя после каждого разделитель.\n",
        "\n",
        "**ОБЯЗАТЕЛЬНО:**\n",
        "- Создайте минимум 3 файла с разным содержимым\n",
        "- Выведите содержимое КАЖДОГО исходного файла\n",
        "- Выполните объединение\n",
        "- Выведите содержимое результирующего файла"
      ]
    },
    {
      "cell_type": "code",
      "execution_count": 6,
      "id": "581b5868",
      "metadata": {
        "id": "581b5868",
        "colab": {
          "base_uri": "https://localhost:8080/"
        },
        "outputId": "e803e3f4-3c09-47fb-ebd7-e1bd7ccf38e5"
      },
      "outputs": [
        {
          "output_type": "stream",
          "name": "stdout",
          "text": [
            "Содержимое файла file1.txt:\n",
            "Первый файл\n",
            "Содержание первого файла\n",
            "Содержимое файла file2.txt:\n",
            "Второй файл\n",
            "Текст второго файла\n",
            "Еще строка\n",
            "Содержимое файла file3.txt:\n",
            "Третий файл\n",
            "Финальное содержимое\n",
            "\n",
            "Содержимое результирующего файла merged_result.txt:\n",
            "Первый файл\n",
            "Содержание первого файла\n",
            "========================================\n",
            "Второй файл\n",
            "Текст второго файла\n",
            "Еще строка\n",
            "========================================\n",
            "Третий файл\n",
            "Финальное содержимое\n"
          ]
        }
      ],
      "source": [
        "def merge_files(file_list, output_file):\n",
        "    separator = \"\\n\" + \"=\" * 40 + \"\\n\"\n",
        "\n",
        "    with open(output_file, 'w', encoding='utf8') as out_file:\n",
        "        for filename in file_list:\n",
        "            print(f\"Содержимое файла {filename}:\")\n",
        "            with open(filename, 'r', encoding='utf8') as in_file:\n",
        "                content = in_file.read()\n",
        "                print(content)\n",
        "                out_file.write(content)\n",
        "                if filename != file_list[-1]:\n",
        "                    out_file.write(separator)\n",
        "\n",
        "    print(f\"\\nСодержимое результирующего файла {output_file}:\")\n",
        "    with open(output_file, 'r', encoding='utf8') as result_file:\n",
        "        print(result_file.read())\n",
        "\n",
        "files_data = {\n",
        "    'file1.txt': 'Первый файл\\nСодержание первого файла',\n",
        "    'file2.txt': 'Второй файл\\nТекст второго файла\\nЕще строка',\n",
        "    'file3.txt': 'Третий файл\\nФинальное содержимое'\n",
        "}\n",
        "\n",
        "for filename, content in files_data.items():\n",
        "    with open(filename, 'w', encoding='utf8') as f:\n",
        "        f.write(content)\n",
        "\n",
        "merge_files(['file1.txt', 'file2.txt', 'file3.txt'], 'merged_result.txt')"
      ]
    },
    {
      "cell_type": "markdown",
      "id": "eb866091",
      "metadata": {
        "id": "eb866091"
      },
      "source": [
        "---"
      ]
    }
  ],
  "metadata": {
    "colab": {
      "provenance": [],
      "include_colab_link": true
    },
    "language_info": {
      "name": "python"
    },
    "kernelspec": {
      "name": "python3",
      "display_name": "Python 3"
    }
  },
  "nbformat": 4,
  "nbformat_minor": 5
}